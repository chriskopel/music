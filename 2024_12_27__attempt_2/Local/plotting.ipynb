{
 "cells": [
  {
   "cell_type": "markdown",
   "metadata": {},
   "source": [
    "# Plot the artists"
   ]
  },
  {
   "cell_type": "code",
   "execution_count": 12,
   "metadata": {},
   "outputs": [],
   "source": [
    "import pandas as pd\n",
    "import umap\n",
    "import matplotlib.pyplot as plt\n",
    "import seaborn as sns\n",
    "import plotly.express as px"
   ]
  },
  {
   "cell_type": "markdown",
   "metadata": {},
   "source": [
    "## Data config"
   ]
  },
  {
   "cell_type": "code",
   "execution_count": 5,
   "metadata": {},
   "outputs": [],
   "source": [
    "df_music = pd.read_pickle('extracted data/2025_01_07_local_music_librosa_features.pkl')"
   ]
  },
  {
   "cell_type": "code",
   "execution_count": 6,
   "metadata": {},
   "outputs": [
    {
     "data": {
      "text/plain": [
       "Index(['mfcc_0', 'mfcc_1', 'mfcc_2', 'mfcc_3', 'mfcc_4', 'mfcc_5', 'mfcc_6',\n",
       "       'mfcc_7', 'mfcc_8', 'mfcc_9', 'mfcc_10', 'mfcc_11', 'mfcc_12',\n",
       "       'mfcc_13', 'mfcc_14', 'mfcc_15', 'mfcc_16', 'mfcc_17', 'mfcc_18',\n",
       "       'mfcc_19', 'spectral_centroid', 'chroma_0', 'chroma_1', 'chroma_2',\n",
       "       'chroma_3', 'chroma_4', 'chroma_5', 'chroma_6', 'chroma_7', 'chroma_8',\n",
       "       'chroma_9', 'chroma_10', 'chroma_11', 'tempo'],\n",
       "      dtype='object')"
      ]
     },
     "execution_count": 6,
     "metadata": {},
     "output_type": "execute_result"
    }
   ],
   "source": [
    "# Select features (from mfcc_0 to tempo)\n",
    "feature_columns = df_music.columns[df_music.columns.get_loc('mfcc_0'):df_music.columns.get_loc('tempo')+1]\n",
    "feature_columns"
   ]
  },
  {
   "cell_type": "code",
   "execution_count": 7,
   "metadata": {},
   "outputs": [],
   "source": [
    "# Create feature matrix and labels\n",
    "X = df_music[feature_columns].values\n",
    "y = df_music['artist'].values"
   ]
  },
  {
   "cell_type": "markdown",
   "metadata": {},
   "source": [
    "## UMAP"
   ]
  },
  {
   "cell_type": "code",
   "execution_count": 8,
   "metadata": {},
   "outputs": [],
   "source": [
    "# Perform UMAP dimensionality reduction\n",
    "reducer = umap.UMAP(n_components=2, random_state=42)\n",
    "embedding = reducer.fit_transform(X)"
   ]
  },
  {
   "cell_type": "code",
   "execution_count": 14,
   "metadata": {},
   "outputs": [],
   "source": [
    "# Create a DataFrame with the reduced dimensions and artist labels\n",
    "plot_df = pd.DataFrame({\n",
    "    'UMAP1': embedding[:, 0],\n",
    "    'UMAP2': embedding[:, 1],\n",
    "    'Artist': y,\n",
    "    'Track': df_music['track_name']\n",
    "})"
   ]
  },
  {
   "cell_type": "code",
   "execution_count": 16,
   "metadata": {},
   "outputs": [
    {
     "data": {
      "application/vnd.plotly.v1+json": {
       "config": {
        "plotlyServerURL": "https://plot.ly"
       },
       "data": [
        {
         "customdata": [
          "Animal Collective",
          "Animal Collective",
          "Animal Collective",
          "Animal Collective",
          "Animal Collective",
          "Animal Collective",
          "Animal Collective",
          "Animal Collective",
          "Animal Collective",
          "Animal Collective",
          "Animal Collective",
          "Animal Collective",
          "Animal Collective",
          "Animal Collective",
          "Animal Collective",
          "Animal Collective",
          "Animal Collective",
          "Animal Collective",
          "Animal Collective",
          "Animal Collective",
          "Animal Collective",
          "Animal Collective",
          "Animal Collective",
          "Animal Collective",
          "Animal Collective",
          "Animal Collective",
          "Animal Collective",
          "Animal Collective",
          "Animal Collective",
          "Animal Collective",
          "Animal Collective",
          "Animal Collective",
          "Animal Collective",
          "Animal Collective",
          "Animal Collective",
          "Animal Collective",
          "Animal Collective",
          "Animal Collective",
          "Animal Collective",
          "Animal Collective",
          "Animal Collective",
          "Animal Collective",
          "Animal Collective",
          "Animal Collective",
          "Animal Collective",
          "Animal Collective",
          "Animal Collective",
          "Animal Collective",
          "Animal Collective",
          "Animal Collective",
          "Animal Collective",
          "Animal Collective",
          "Animal Collective",
          "Animal Collective",
          "Animal Collective",
          "Animal Collective",
          "Animal Collective",
          "Animal Collective",
          "Animal Collective",
          "Animal Collective",
          "Animal Collective",
          "Animal Collective",
          "The Tallest Man on Earth",
          "The Tallest Man on Earth",
          "The Tallest Man on Earth",
          "The Tallest Man on Earth",
          "The Tallest Man on Earth",
          "The Tallest Man on Earth",
          "The Tallest Man on Earth",
          "The Tallest Man on Earth",
          "The Tallest Man on Earth",
          "The Tallest Man on Earth",
          "The Tallest Man on Earth",
          "The Tallest Man on Earth",
          "The Tallest Man on Earth",
          "The Tallest Man on Earth",
          "The Tallest Man on Earth",
          "The Tallest Man on Earth",
          "The Tallest Man on Earth",
          "The Tallest Man on Earth",
          "The Tallest Man on Earth",
          "The Tallest Man on Earth",
          "The Tallest Man on Earth",
          "The Tallest Man on Earth",
          "The Tallest Man on Earth",
          "The Tallest Man on Earth",
          "The Tallest Man on Earth",
          "The Tallest Man on Earth",
          "The Tallest Man on Earth",
          "The Tallest Man on Earth",
          "The Tallest Man on Earth",
          "The Tallest Man on Earth",
          "The Tallest Man on Earth",
          "The Tallest Man on Earth",
          "The Tallest Man on Earth",
          "The Tallest Man on Earth",
          "The Tallest Man on Earth",
          "The Tallest Man on Earth",
          "The Tallest Man on Earth",
          "The Tallest Man on Earth",
          "The Tallest Man on Earth",
          "The Tallest Man on Earth",
          "The Strokes",
          "The Strokes",
          "The Strokes",
          "The Strokes",
          "The Strokes",
          "The Strokes",
          "The Strokes",
          "The Strokes",
          "The Strokes",
          "The Strokes",
          "The Strokes",
          "The Strokes",
          "The Strokes",
          "The Strokes",
          "The Strokes",
          "The Strokes",
          "The Strokes",
          "The Strokes",
          "The Strokes",
          "The Strokes",
          "The Strokes",
          "The Strokes",
          "The Strokes",
          "The Strokes",
          "The Strokes",
          "The Strokes",
          "The Strokes",
          "The Strokes",
          "The Strokes",
          "The Strokes",
          "The Strokes",
          "The Strokes",
          "The Strokes",
          "The Strokes",
          "The Strokes",
          "The Strokes",
          "The Strokes",
          "The Strokes",
          "The Strokes",
          "The Strokes",
          "The Strokes",
          "The Strokes",
          "The Strokes",
          "The Strokes",
          "The Strokes",
          "Pogo",
          "Pogo",
          "Pogo",
          "Pogo",
          "Pogo",
          "Pogo",
          "Pogo",
          "Pogo",
          "Pogo",
          "Pogo",
          "Pogo",
          "Pogo",
          "Pogo",
          "Pogo",
          "Pogo",
          "Pogo",
          "Pogo",
          "Pogo",
          "Pogo",
          "Pogo",
          "Pogo",
          "Pogo",
          "Pogo",
          "Pogo",
          "Pogo",
          "Pogo",
          "Pogo",
          "Pogo",
          "Pogo",
          "Pogo",
          "Pogo",
          "Pogo",
          "Pogo",
          "Pogo",
          "Pogo",
          "Pogo",
          "Pogo",
          "Pogo",
          "Pogo",
          "Pogo",
          "Pogo",
          "Pogo",
          "Pogo",
          "Pogo",
          "Pogo",
          "Pogo",
          "Pogo",
          "Pogo",
          "Pogo",
          "Pogo",
          "Pogo",
          "Pogo",
          "Pogo",
          "Pogo",
          "Pogo",
          "Pogo",
          "Pogo",
          "Pogo",
          "Pogo",
          "Pogo",
          "Pogo",
          "Pogo",
          "Pogo",
          "Pogo",
          "Pogo",
          "Pogo",
          "Pogo",
          "Pogo",
          "Pogo"
         ],
         "hovertemplate": "<b>%{hovertext}</b><br>Artist: %{customdata}",
         "hovertext": [
          "01 Graze.m4a",
          "02 What Would I Want_ Sky.m4a",
          "03 Bleed.m4a",
          "04 On A Highway.m4a",
          "05 I Think I Can.m4a",
          "02 Grass.mp3",
          "03 Did You See the Words.mp3",
          "03 Flesh Canoe.m4a",
          "04 The Purple Bottle.mp3",
          "05 Bees.m4a",
          "06 Banshee Beat.m4a",
          "07 Daffy Duck.m4a",
          "08 Loch Raven.m4a",
          "09 Turn Into Something.m4a",
          "01-01 - Blue Noses.mp3",
          "01-02 - Man Of Oil.mp3",
          "02-01 - Amazonawana  Anaconda Opportunity.mp3",
          "02-02 - Selection Of A Place (Rio Negro Version).mp3",
          "01 In The Flowers.m4a",
          "02 My Girls.m4a",
          "03 Also Frightened.m4a",
          "04 Summertime Clothes.m4a",
          "05 Daily Routine.m4a",
          "06 Bluish.m4a",
          "07 Guys Eyes.m4a",
          "08 Taste.m4a",
          "09 Lion In A Coma.m4a",
          "10 No More Runnin.m4a",
          "11 Brother Sport.m4a",
          "01 FloriDada.mp3",
          "02 Hocus Pocus.mp3",
          "03 Vertical.mp3",
          "04 Lying in the Grass.mp3",
          "05 The Burglars.mp3",
          "06 Natural Selection.mp3",
          "07 Bagels in Kiev.mp3",
          "08 On Delay.mp3",
          "09 Spilling Guts.mp3",
          "10 Summing the Wretch.mp3",
          "11 Golden Gal.mp3",
          "12 Recycling.mp3",
          "01 Peacebone.m4a",
          "02 Unsolved Mysteries.m4a",
          "03 Chores.m4a",
          "04 For Reverend Green.m4a",
          "05 Fireworks.m4a",
          "06 #1.m4a",
          "07 Winter Wonder Land.m4a",
          "08 Cuckoo Cuckoo.m4a",
          "09 Derek.m4a",
          "01 Leaf House.m4a",
          "02 Who Could Win a Rabbit.m4a",
          "03 The Softest Voice.m4a",
          "04 Winters Love.m4a",
          "05 Kids on Holiday.m4a",
          "06 Sweet Road.m4a",
          "07 Visiting Friends.m4a",
          "08 College.m4a",
          "09 We Tigers.m4a",
          "10 Mouth Wooed Her.m4a",
          "11 Good Lovin Outside.m4a",
          "12 Whaddit I Done.m4a"
         ],
         "legendgroup": "Animal Collective",
         "marker": {
          "color": "#636efa",
          "symbol": "circle"
         },
         "mode": "markers",
         "name": "Animal Collective",
         "orientation": "v",
         "showlegend": true,
         "type": "scatter",
         "x": [
          2.109062671661377,
          3.830167293548584,
          6.561903476715088,
          5.133851528167725,
          6.560901641845703,
          4.721066951751709,
          6.107133388519287,
          7.112008094787598,
          5.3309173583984375,
          10.258610725402832,
          9.274843215942383,
          12.991649627685547,
          7.78070068359375,
          6.468923568725586,
          8.772188186645508,
          9.56474781036377,
          0.6151655316352844,
          0.5076406598091125,
          4.037810325622559,
          1.091271162033081,
          1.0211350917816162,
          1.7864835262298584,
          1.9385615587234497,
          4.233287334442139,
          1.8994338512420654,
          0.9758096933364868,
          1.1396546363830566,
          12.390350341796875,
          0.867242693901062,
          3.6399471759796143,
          4.048727035522461,
          0.9151570200920105,
          3.766775131225586,
          1.3475216627120972,
          1.6391798257827759,
          1.9386776685714722,
          6.123459815979004,
          1.1206525564193726,
          1.0375255346298218,
          0.8086559772491455,
          7.255728244781494,
          4.25130558013916,
          3.807354688644409,
          4.872341156005859,
          1.766499638557434,
          1.8170289993286133,
          11.28010368347168,
          3.6021902561187744,
          4.267776012420654,
          1.58168625831604,
          6.416723728179932,
          1.703078031539917,
          8.274857521057129,
          4.365283489227295,
          5.433664321899414,
          1.1589593887329102,
          5.450699329376221,
          0.6803082823753357,
          8.310144424438477,
          6.264014720916748,
          4.031759262084961,
          10.915613174438477
         ],
         "xaxis": "x",
         "y": [
          5.963563919067383,
          11.822808265686035,
          14.197420120239258,
          13.638056755065918,
          14.708879470825195,
          13.205073356628418,
          14.490093231201172,
          14.71488094329834,
          13.576116561889648,
          13.65338134765625,
          13.91728687286377,
          10.68076229095459,
          13.972854614257812,
          14.727874755859375,
          13.96652603149414,
          13.70219612121582,
          0.9695343375205994,
          -0.9476497173309326,
          11.859992980957031,
          0.9269096255302429,
          2.4239816665649414,
          5.310616970062256,
          5.398349285125732,
          12.241147994995117,
          4.648715019226074,
          0.7391615509986877,
          2.74010968208313,
          11.486457824707031,
          -0.6598392724990845,
          10.624201774597168,
          12.0205659866333,
          1.676515817642212,
          11.736440658569336,
          3.2263572216033936,
          3.782566785812378,
          5.802135467529297,
          14.338678359985352,
          1.207324504852295,
          0.8341191411018372,
          3.0289227962493896,
          14.643718719482422,
          12.621217727661133,
          11.776681900024414,
          13.570880889892578,
          3.9808926582336426,
          5.6929144859313965,
          13.428559303283691,
          10.522920608520508,
          12.143403053283691,
          4.418450832366943,
          14.255928993225098,
          4.379271030426025,
          13.974583625793457,
          12.025092124938965,
          13.17176342010498,
          4.484778881072998,
          13.439374923706055,
          -1.405533790588379,
          14.289650917053223,
          13.492019653320312,
          11.313148498535156,
          13.304688453674316
         ],
         "yaxis": "y"
        },
        {
         "customdata": [
          "Animal Collective",
          "Animal Collective",
          "Animal Collective",
          "Animal Collective",
          "Animal Collective",
          "Animal Collective",
          "Animal Collective",
          "Animal Collective",
          "Animal Collective",
          "Animal Collective",
          "Animal Collective",
          "Animal Collective",
          "Animal Collective",
          "Animal Collective",
          "Animal Collective",
          "Animal Collective",
          "Animal Collective",
          "Animal Collective",
          "Animal Collective",
          "Animal Collective",
          "Animal Collective",
          "Animal Collective",
          "Animal Collective",
          "Animal Collective",
          "Animal Collective",
          "Animal Collective",
          "Animal Collective",
          "Animal Collective",
          "Animal Collective",
          "Animal Collective",
          "Animal Collective",
          "Animal Collective",
          "Animal Collective",
          "Animal Collective",
          "Animal Collective",
          "Animal Collective",
          "Animal Collective",
          "Animal Collective",
          "Animal Collective",
          "Animal Collective",
          "Animal Collective",
          "Animal Collective",
          "Animal Collective",
          "Animal Collective",
          "Animal Collective",
          "Animal Collective",
          "Animal Collective",
          "Animal Collective",
          "Animal Collective",
          "Animal Collective",
          "Animal Collective",
          "Animal Collective",
          "Animal Collective",
          "Animal Collective",
          "Animal Collective",
          "Animal Collective",
          "Animal Collective",
          "Animal Collective",
          "Animal Collective",
          "Animal Collective",
          "Animal Collective",
          "Animal Collective",
          "The Tallest Man on Earth",
          "The Tallest Man on Earth",
          "The Tallest Man on Earth",
          "The Tallest Man on Earth",
          "The Tallest Man on Earth",
          "The Tallest Man on Earth",
          "The Tallest Man on Earth",
          "The Tallest Man on Earth",
          "The Tallest Man on Earth",
          "The Tallest Man on Earth",
          "The Tallest Man on Earth",
          "The Tallest Man on Earth",
          "The Tallest Man on Earth",
          "The Tallest Man on Earth",
          "The Tallest Man on Earth",
          "The Tallest Man on Earth",
          "The Tallest Man on Earth",
          "The Tallest Man on Earth",
          "The Tallest Man on Earth",
          "The Tallest Man on Earth",
          "The Tallest Man on Earth",
          "The Tallest Man on Earth",
          "The Tallest Man on Earth",
          "The Tallest Man on Earth",
          "The Tallest Man on Earth",
          "The Tallest Man on Earth",
          "The Tallest Man on Earth",
          "The Tallest Man on Earth",
          "The Tallest Man on Earth",
          "The Tallest Man on Earth",
          "The Tallest Man on Earth",
          "The Tallest Man on Earth",
          "The Tallest Man on Earth",
          "The Tallest Man on Earth",
          "The Tallest Man on Earth",
          "The Tallest Man on Earth",
          "The Tallest Man on Earth",
          "The Tallest Man on Earth",
          "The Tallest Man on Earth",
          "The Tallest Man on Earth",
          "The Strokes",
          "The Strokes",
          "The Strokes",
          "The Strokes",
          "The Strokes",
          "The Strokes",
          "The Strokes",
          "The Strokes",
          "The Strokes",
          "The Strokes",
          "The Strokes",
          "The Strokes",
          "The Strokes",
          "The Strokes",
          "The Strokes",
          "The Strokes",
          "The Strokes",
          "The Strokes",
          "The Strokes",
          "The Strokes",
          "The Strokes",
          "The Strokes",
          "The Strokes",
          "The Strokes",
          "The Strokes",
          "The Strokes",
          "The Strokes",
          "The Strokes",
          "The Strokes",
          "The Strokes",
          "The Strokes",
          "The Strokes",
          "The Strokes",
          "The Strokes",
          "The Strokes",
          "The Strokes",
          "The Strokes",
          "The Strokes",
          "The Strokes",
          "The Strokes",
          "The Strokes",
          "The Strokes",
          "The Strokes",
          "The Strokes",
          "The Strokes",
          "Pogo",
          "Pogo",
          "Pogo",
          "Pogo",
          "Pogo",
          "Pogo",
          "Pogo",
          "Pogo",
          "Pogo",
          "Pogo",
          "Pogo",
          "Pogo",
          "Pogo",
          "Pogo",
          "Pogo",
          "Pogo",
          "Pogo",
          "Pogo",
          "Pogo",
          "Pogo",
          "Pogo",
          "Pogo",
          "Pogo",
          "Pogo",
          "Pogo",
          "Pogo",
          "Pogo",
          "Pogo",
          "Pogo",
          "Pogo",
          "Pogo",
          "Pogo",
          "Pogo",
          "Pogo",
          "Pogo",
          "Pogo",
          "Pogo",
          "Pogo",
          "Pogo",
          "Pogo",
          "Pogo",
          "Pogo",
          "Pogo",
          "Pogo",
          "Pogo",
          "Pogo",
          "Pogo",
          "Pogo",
          "Pogo",
          "Pogo",
          "Pogo",
          "Pogo",
          "Pogo",
          "Pogo",
          "Pogo",
          "Pogo",
          "Pogo",
          "Pogo",
          "Pogo",
          "Pogo",
          "Pogo",
          "Pogo",
          "Pogo",
          "Pogo",
          "Pogo",
          "Pogo",
          "Pogo",
          "Pogo",
          "Pogo"
         ],
         "hovertemplate": "<b>%{hovertext}</b><br>Artist: %{customdata}",
         "hovertext": [
          "01 The Wild Hunt.mp3",
          "02 Burden of Tomorrow.mp3",
          "03 Troubles Will be Gone.mp3",
          "04 You're Going Back.mp3",
          "05 The Drying of the Lawns.mp3",
          "06 King of Spain.mp3",
          "07 Love is All.mp3",
          "08 Thousand Ways.mp3",
          "09 A Lion's Heart.mp3",
          "10 Kids on the Run.mp3",
          "TheTallestManOnEarth-Shallowgrave-01-IWontBeFound.mp3",
          "TheTallestManOnEarth-Shallowgrave-02-PistolDreams.mp3",
          "TheTallestManOnEarth-Shallowgrave-03-HoneyWontYouLetMe.mp3",
          "TheTallestManOnEarth-Shallowgrave-04-ShallowGrave.mp3",
          "TheTallestManOnEarth-Shallowgrave-05-WhereDoMyBluebirdFly.mp3",
          "TheTallestManOnEarth-Shallowgrave-06-TheGardener.mp3",
          "TheTallestManOnEarth-Shallowgrave-07-TheBlizzardsNever.mp3",
          "TheTallestManOnEarth-Shallowgrave-08-TheSparrowandthe.mp3",
          "TheTallestManOnEarth-Shallowgrave-09-IntotheStream.mp3",
          "TheTallestManOnEarth-Shallowgrave-10-ThisWind.mp3",
          "01 To Just Grow Away.mp3",
          "02 Revelation Blues.mp3",
          "03 Leading Me Now.mp3",
          "04 1904.mp3",
          "05 Bright Lanterns.mp3",
          "06 There's No Leaving Now.mp3",
          "07 Wind and Walls.mp3",
          "08 Little Brother.mp3",
          "09 Criminals.mp3",
          "10 On Every Page.mp3",
          "01 Fields of Our Home.mp3",
          "02 Darkness of the Dream.mp3",
          "03 Singers.mp3",
          "04 Slow Dance.mp3",
          "05 Little Nowhere Towns.mp3",
          "06 Sagres.mp3",
          "07 Timothy.mp3",
          "08 Beginners.mp3",
          "09 Seventeen.mp3",
          "10 Dark Bird Is Home.mp3"
         ],
         "legendgroup": "The Tallest Man on Earth",
         "marker": {
          "color": "#EF553B",
          "symbol": "circle"
         },
         "mode": "markers",
         "name": "The Tallest Man on Earth",
         "orientation": "v",
         "showlegend": true,
         "type": "scatter",
         "x": [
          10.177105903625488,
          11.58129596710205,
          9.764493942260742,
          0.5602666735649109,
          8.326916694641113,
          5.357142448425293,
          12.74506664276123,
          11.58647346496582,
          11.597635269165039,
          9.501404762268066,
          5.598600387573242,
          0.4882529675960541,
          5.823904514312744,
          4.008044719696045,
          9.911211013793945,
          0.9821047186851501,
          5.182267665863037,
          9.235968589782715,
          6.760968208312988,
          2.0831377506256104,
          12.252607345581055,
          12.284703254699707,
          12.499066352844238,
          6.74891996383667,
          12.118072509765625,
          12.612626075744629,
          5.079442977905273,
          12.20097827911377,
          12.179821968078613,
          12.009415626525879,
          12.058268547058105,
          2.1627702713012695,
          11.513154029846191,
          11.07682991027832,
          12.37283992767334,
          5.616300106048584,
          4.351167678833008,
          9.687596321105957,
          4.624448299407959,
          8.562355041503906
         ],
         "xaxis": "x",
         "y": [
          13.672470092773438,
          13.103229522705078,
          13.817567825317383,
          -0.1891215443611145,
          13.977702140808105,
          13.296771049499512,
          10.895977020263672,
          13.091509819030762,
          13.002973556518555,
          13.758511543273926,
          13.552718162536621,
          -0.6122918725013733,
          14.50549602508545,
          11.473857879638672,
          13.9212646484375,
          1.0521149635314941,
          13.448760986328125,
          14.007280349731445,
          14.511618614196777,
          5.41869592666626,
          12.005584716796875,
          12.021432876586914,
          11.196130752563477,
          14.600907325744629,
          12.028210639953613,
          11.049921035766602,
          13.245061874389648,
          12.160025596618652,
          11.477404594421387,
          11.888237953186035,
          12.217375755310059,
          6.106661319732666,
          13.183920860290527,
          13.613476753234863,
          11.33862018585205,
          14.35358715057373,
          12.68625545501709,
          13.800182342529297,
          13.062626838684082,
          13.887348175048828
         ],
         "yaxis": "y"
        },
        {
         "customdata": [
          "Animal Collective",
          "Animal Collective",
          "Animal Collective",
          "Animal Collective",
          "Animal Collective",
          "Animal Collective",
          "Animal Collective",
          "Animal Collective",
          "Animal Collective",
          "Animal Collective",
          "Animal Collective",
          "Animal Collective",
          "Animal Collective",
          "Animal Collective",
          "Animal Collective",
          "Animal Collective",
          "Animal Collective",
          "Animal Collective",
          "Animal Collective",
          "Animal Collective",
          "Animal Collective",
          "Animal Collective",
          "Animal Collective",
          "Animal Collective",
          "Animal Collective",
          "Animal Collective",
          "Animal Collective",
          "Animal Collective",
          "Animal Collective",
          "Animal Collective",
          "Animal Collective",
          "Animal Collective",
          "Animal Collective",
          "Animal Collective",
          "Animal Collective",
          "Animal Collective",
          "Animal Collective",
          "Animal Collective",
          "Animal Collective",
          "Animal Collective",
          "Animal Collective",
          "Animal Collective",
          "Animal Collective",
          "Animal Collective",
          "Animal Collective",
          "Animal Collective",
          "Animal Collective",
          "Animal Collective",
          "Animal Collective",
          "Animal Collective",
          "Animal Collective",
          "Animal Collective",
          "Animal Collective",
          "Animal Collective",
          "Animal Collective",
          "Animal Collective",
          "Animal Collective",
          "Animal Collective",
          "Animal Collective",
          "Animal Collective",
          "Animal Collective",
          "Animal Collective",
          "The Tallest Man on Earth",
          "The Tallest Man on Earth",
          "The Tallest Man on Earth",
          "The Tallest Man on Earth",
          "The Tallest Man on Earth",
          "The Tallest Man on Earth",
          "The Tallest Man on Earth",
          "The Tallest Man on Earth",
          "The Tallest Man on Earth",
          "The Tallest Man on Earth",
          "The Tallest Man on Earth",
          "The Tallest Man on Earth",
          "The Tallest Man on Earth",
          "The Tallest Man on Earth",
          "The Tallest Man on Earth",
          "The Tallest Man on Earth",
          "The Tallest Man on Earth",
          "The Tallest Man on Earth",
          "The Tallest Man on Earth",
          "The Tallest Man on Earth",
          "The Tallest Man on Earth",
          "The Tallest Man on Earth",
          "The Tallest Man on Earth",
          "The Tallest Man on Earth",
          "The Tallest Man on Earth",
          "The Tallest Man on Earth",
          "The Tallest Man on Earth",
          "The Tallest Man on Earth",
          "The Tallest Man on Earth",
          "The Tallest Man on Earth",
          "The Tallest Man on Earth",
          "The Tallest Man on Earth",
          "The Tallest Man on Earth",
          "The Tallest Man on Earth",
          "The Tallest Man on Earth",
          "The Tallest Man on Earth",
          "The Tallest Man on Earth",
          "The Tallest Man on Earth",
          "The Tallest Man on Earth",
          "The Tallest Man on Earth",
          "The Strokes",
          "The Strokes",
          "The Strokes",
          "The Strokes",
          "The Strokes",
          "The Strokes",
          "The Strokes",
          "The Strokes",
          "The Strokes",
          "The Strokes",
          "The Strokes",
          "The Strokes",
          "The Strokes",
          "The Strokes",
          "The Strokes",
          "The Strokes",
          "The Strokes",
          "The Strokes",
          "The Strokes",
          "The Strokes",
          "The Strokes",
          "The Strokes",
          "The Strokes",
          "The Strokes",
          "The Strokes",
          "The Strokes",
          "The Strokes",
          "The Strokes",
          "The Strokes",
          "The Strokes",
          "The Strokes",
          "The Strokes",
          "The Strokes",
          "The Strokes",
          "The Strokes",
          "The Strokes",
          "The Strokes",
          "The Strokes",
          "The Strokes",
          "The Strokes",
          "The Strokes",
          "The Strokes",
          "The Strokes",
          "The Strokes",
          "The Strokes",
          "Pogo",
          "Pogo",
          "Pogo",
          "Pogo",
          "Pogo",
          "Pogo",
          "Pogo",
          "Pogo",
          "Pogo",
          "Pogo",
          "Pogo",
          "Pogo",
          "Pogo",
          "Pogo",
          "Pogo",
          "Pogo",
          "Pogo",
          "Pogo",
          "Pogo",
          "Pogo",
          "Pogo",
          "Pogo",
          "Pogo",
          "Pogo",
          "Pogo",
          "Pogo",
          "Pogo",
          "Pogo",
          "Pogo",
          "Pogo",
          "Pogo",
          "Pogo",
          "Pogo",
          "Pogo",
          "Pogo",
          "Pogo",
          "Pogo",
          "Pogo",
          "Pogo",
          "Pogo",
          "Pogo",
          "Pogo",
          "Pogo",
          "Pogo",
          "Pogo",
          "Pogo",
          "Pogo",
          "Pogo",
          "Pogo",
          "Pogo",
          "Pogo",
          "Pogo",
          "Pogo",
          "Pogo",
          "Pogo",
          "Pogo",
          "Pogo",
          "Pogo",
          "Pogo",
          "Pogo",
          "Pogo",
          "Pogo",
          "Pogo",
          "Pogo",
          "Pogo",
          "Pogo",
          "Pogo",
          "Pogo",
          "Pogo"
         ],
         "hovertemplate": "<b>%{hovertext}</b><br>Artist: %{customdata}",
         "hovertext": [
          "01 Machu Picchu.mp3",
          "02 Under Cover Of Darkness.mp3",
          "03 Two Kinds Of Happiness.mp3",
          "04 You're So Right.mp3",
          "05 Taken For A Fool.mp3",
          "06 Games.mp3",
          "07 Call Me Back.mp3",
          "08 Gratisfaction.mp3",
          "09 Metabolism.mp3",
          "10 Life Is Simple In The Moonlight 1.mp3",
          "10 Life Is Simple in the Moonlight.mp3",
          "01 Machu Picchu.mp3",
          "02 Under Cover Of Darkness.mp3",
          "03 Two Kinds Of Happiness.mp3",
          "04 You're So Right.mp3",
          "05 Taken For A Fool.mp3",
          "06 Games.mp3",
          "07 Call Me Back.mp3",
          "08 Gratisfaction.mp3",
          "09 Metabolism.mp3",
          "10 Life Is Simple In The Moonlight 1.mp3",
          "10 Life Is Simple in the Moonlight.mp3",
          "01 Is This It.m4a",
          "02 The Modern Age 1.m4a",
          "02 The Modern Age.m4a",
          "03 Soma.m4a",
          "04 Barely Legal.m4a",
          "05 Someday.m4a",
          "06 Alone, Together.m4a",
          "07 Last Nite.m4a",
          "08 Hard to Explain.m4a",
          "09 When It Started.m4a",
          "10 Trying Your Luck.m4a",
          "11 Take It or Leave It.m4a",
          "01 What Ever Happened_.m4a",
          "03 Automatic Stop.m4a",
          "04 12_51.m4a",
          "05 You Talk Way Too Much.m4a",
          "06 Between Love & Hate.m4a",
          "07 Meet Me In the Bathroom.m4a",
          "08 Under Control 1.m4a",
          "08 Under Control.m4a",
          "09 The Way It Is.m4a",
          "10 The End Has No End.m4a",
          "11 I Can't Win.m4a"
         ],
         "legendgroup": "The Strokes",
         "marker": {
          "color": "#00cc96",
          "symbol": "circle"
         },
         "mode": "markers",
         "name": "The Strokes",
         "orientation": "v",
         "showlegend": true,
         "type": "scatter",
         "x": [
          1.0221086740493774,
          1.1368603706359863,
          1.0065324306488037,
          1.6597882509231567,
          0.9075312614440918,
          4.170675277709961,
          12.164316177368164,
          0.7848163843154907,
          1.7937729358673096,
          3.6564481258392334,
          6.173191070556641,
          1.051688313484192,
          1.1062242984771729,
          0.9809181094169617,
          1.7334370613098145,
          0.9354113340377808,
          4.190738201141357,
          12.204485893249512,
          0.8165722489356995,
          1.7730392217636108,
          3.660604476928711,
          6.178960800170898,
          1.632006049156189,
          7.424139976501465,
          7.362629413604736,
          6.640697956085205,
          4.868171691894531,
          1.7194312810897827,
          1.5260134935379028,
          1.8111635446548462,
          3.57544207572937,
          6.009230613708496,
          6.801358699798584,
          0.9864796996116638,
          0.8910613656044006,
          3.6967084407806396,
          4.62013578414917,
          1.9674440622329712,
          1.8025933504104614,
          1.0217608213424683,
          5.842586040496826,
          5.885375499725342,
          1.9292080402374268,
          0.9416854977607727,
          4.706356525421143
         ],
         "xaxis": "x",
         "y": [
          -0.1383996605873108,
          0.021698305383324623,
          -0.1802978813648224,
          4.336758613586426,
          -0.7459452748298645,
          11.964293479919434,
          11.656916618347168,
          2.7301905155181885,
          5.694994926452637,
          10.901698112487793,
          13.386818885803223,
          -0.10527659207582474,
          -0.031988970935344696,
          -0.20412039756774902,
          4.425185680389404,
          -0.6513502597808838,
          12.048456192016602,
          11.661032676696777,
          2.7823712825775146,
          5.64356803894043,
          10.92478084564209,
          13.390425682067871,
          5.181645393371582,
          14.791400909423828,
          14.713547706604004,
          14.501328468322754,
          13.459228515625,
          4.103270530700684,
          3.5788586139678955,
          5.838435649871826,
          10.67683219909668,
          14.239805221557617,
          14.43342399597168,
          2.1816048622131348,
          2.282454252243042,
          10.818425178527832,
          13.075359344482422,
          4.534635066986084,
          5.800387382507324,
          1.9283256530761719,
          14.517876625061035,
          14.45553207397461,
          4.283438205718994,
          2.0293097496032715,
          12.948851585388184
         ],
         "yaxis": "y"
        },
        {
         "customdata": [
          "Animal Collective",
          "Animal Collective",
          "Animal Collective",
          "Animal Collective",
          "Animal Collective",
          "Animal Collective",
          "Animal Collective",
          "Animal Collective",
          "Animal Collective",
          "Animal Collective",
          "Animal Collective",
          "Animal Collective",
          "Animal Collective",
          "Animal Collective",
          "Animal Collective",
          "Animal Collective",
          "Animal Collective",
          "Animal Collective",
          "Animal Collective",
          "Animal Collective",
          "Animal Collective",
          "Animal Collective",
          "Animal Collective",
          "Animal Collective",
          "Animal Collective",
          "Animal Collective",
          "Animal Collective",
          "Animal Collective",
          "Animal Collective",
          "Animal Collective",
          "Animal Collective",
          "Animal Collective",
          "Animal Collective",
          "Animal Collective",
          "Animal Collective",
          "Animal Collective",
          "Animal Collective",
          "Animal Collective",
          "Animal Collective",
          "Animal Collective",
          "Animal Collective",
          "Animal Collective",
          "Animal Collective",
          "Animal Collective",
          "Animal Collective",
          "Animal Collective",
          "Animal Collective",
          "Animal Collective",
          "Animal Collective",
          "Animal Collective",
          "Animal Collective",
          "Animal Collective",
          "Animal Collective",
          "Animal Collective",
          "Animal Collective",
          "Animal Collective",
          "Animal Collective",
          "Animal Collective",
          "Animal Collective",
          "Animal Collective",
          "Animal Collective",
          "Animal Collective",
          "The Tallest Man on Earth",
          "The Tallest Man on Earth",
          "The Tallest Man on Earth",
          "The Tallest Man on Earth",
          "The Tallest Man on Earth",
          "The Tallest Man on Earth",
          "The Tallest Man on Earth",
          "The Tallest Man on Earth",
          "The Tallest Man on Earth",
          "The Tallest Man on Earth",
          "The Tallest Man on Earth",
          "The Tallest Man on Earth",
          "The Tallest Man on Earth",
          "The Tallest Man on Earth",
          "The Tallest Man on Earth",
          "The Tallest Man on Earth",
          "The Tallest Man on Earth",
          "The Tallest Man on Earth",
          "The Tallest Man on Earth",
          "The Tallest Man on Earth",
          "The Tallest Man on Earth",
          "The Tallest Man on Earth",
          "The Tallest Man on Earth",
          "The Tallest Man on Earth",
          "The Tallest Man on Earth",
          "The Tallest Man on Earth",
          "The Tallest Man on Earth",
          "The Tallest Man on Earth",
          "The Tallest Man on Earth",
          "The Tallest Man on Earth",
          "The Tallest Man on Earth",
          "The Tallest Man on Earth",
          "The Tallest Man on Earth",
          "The Tallest Man on Earth",
          "The Tallest Man on Earth",
          "The Tallest Man on Earth",
          "The Tallest Man on Earth",
          "The Tallest Man on Earth",
          "The Tallest Man on Earth",
          "The Tallest Man on Earth",
          "The Strokes",
          "The Strokes",
          "The Strokes",
          "The Strokes",
          "The Strokes",
          "The Strokes",
          "The Strokes",
          "The Strokes",
          "The Strokes",
          "The Strokes",
          "The Strokes",
          "The Strokes",
          "The Strokes",
          "The Strokes",
          "The Strokes",
          "The Strokes",
          "The Strokes",
          "The Strokes",
          "The Strokes",
          "The Strokes",
          "The Strokes",
          "The Strokes",
          "The Strokes",
          "The Strokes",
          "The Strokes",
          "The Strokes",
          "The Strokes",
          "The Strokes",
          "The Strokes",
          "The Strokes",
          "The Strokes",
          "The Strokes",
          "The Strokes",
          "The Strokes",
          "The Strokes",
          "The Strokes",
          "The Strokes",
          "The Strokes",
          "The Strokes",
          "The Strokes",
          "The Strokes",
          "The Strokes",
          "The Strokes",
          "The Strokes",
          "The Strokes",
          "Pogo",
          "Pogo",
          "Pogo",
          "Pogo",
          "Pogo",
          "Pogo",
          "Pogo",
          "Pogo",
          "Pogo",
          "Pogo",
          "Pogo",
          "Pogo",
          "Pogo",
          "Pogo",
          "Pogo",
          "Pogo",
          "Pogo",
          "Pogo",
          "Pogo",
          "Pogo",
          "Pogo",
          "Pogo",
          "Pogo",
          "Pogo",
          "Pogo",
          "Pogo",
          "Pogo",
          "Pogo",
          "Pogo",
          "Pogo",
          "Pogo",
          "Pogo",
          "Pogo",
          "Pogo",
          "Pogo",
          "Pogo",
          "Pogo",
          "Pogo",
          "Pogo",
          "Pogo",
          "Pogo",
          "Pogo",
          "Pogo",
          "Pogo",
          "Pogo",
          "Pogo",
          "Pogo",
          "Pogo",
          "Pogo",
          "Pogo",
          "Pogo",
          "Pogo",
          "Pogo",
          "Pogo",
          "Pogo",
          "Pogo",
          "Pogo",
          "Pogo",
          "Pogo",
          "Pogo",
          "Pogo",
          "Pogo",
          "Pogo",
          "Pogo",
          "Pogo",
          "Pogo",
          "Pogo",
          "Pogo",
          "Pogo"
         ],
         "hovertemplate": "<b>%{hovertext}</b><br>Artist: %{customdata}",
         "hovertext": [
          "Bigger Blue _ Pogo_284910233_soundcloud.mp3",
          "Blue Holiday _ Pogo_295011972_soundcloud.mp3",
          "Cupboard Shaker _ Pogo_296264737_soundcloud.mp3",
          "Happy Horse Goes To Happy Town _ Pogo_270298628_soundcloud.mp3",
          "In My Chair (Milky Mix) 2016 _ Pogo_266745293_soundcloud.mp3",
          "Jungle Dash _ Pogo_274227186_soundcloud.mp3",
          "Shatter _ Pogo_272416616_soundcloud.mp3",
          "精神 _ Pogo_284667071_soundcloud.mp3",
          "Pogo - Kindred Shadow - 01 Sky Heart.mp3",
          "Pogo - Kindred Shadow - 02 Forget.mp3",
          "Pogo - Kindred Shadow - 03 No Worries.mp3",
          "Pogo - Kindred Shadow - 04 The Trouble.mp3",
          "Pogo - Kindred Shadow - 05 Ode For Lovers.mp3",
          "Pogo - Kindred Shadow - 06 Pinocchionic.mp3",
          "Pogo - Kindred Shadow - 07 Where Is Ethan-.mp3",
          "Pogo - Kindred Shadow - 08 Rise & Glide.mp3",
          "Pogo - Kindred Shadow - 09 Yore.mp3",
          "Pogo - Kindred Shadow - 10 Her Perfume.mp3",
          "Pogo - Kindred Shadow - 11 Here Now.mp3",
          "Pogo - Kindred Shadow - 12 Truly.mp3",
          "Pogo - Kindred Shadow - 13 What Is I-.mp3",
          "Pogo - Star Charts - 01 One Day With You.mp3",
          "Pogo - Star Charts - 02 Simagism.mp3",
          "Pogo - Star Charts - 03 Cosgrove.mp3",
          "Pogo - Star Charts - 04 Bang Monkey.mp3",
          "Pogo - Star Charts - 05 Featherfunk.mp3",
          "Pogo - Star Charts - 06 Into The Ark.mp3",
          "Pogo - Star Charts - 07 Hermione Mix.mp3",
          "Pogo - Star Charts - 08 Freedom Flavoured.mp3",
          "Pogo - Star Charts - 09 Do Something Rhythmic.mp3",
          "Pogo - Star Charts - 10 The Climb.mp3",
          "Pogo - Star Charts - 11 Croc Stock and Barrel.mp3",
          "Pogo - Star Charts - 12 One Mushroom Too Many (Club Mix).mp3",
          "01 Upular.mp3",
          "Ariel.mp3",
          "Austin 1911.mp3",
          "Bangarang.mp3",
          "Bloom.mp3",
          "Boo Bass.mp3",
          "Buzzwing.mp3",
          "Counterpoint.mp3",
          "Davyd.mp3",
          "Doo D'Doo.mp3",
          "Expialidocious.mp3",
          "Hundred Acre Flurry.mp3",
          "Hundred Acre Rain.mp3",
          "IWant....mp3",
          "Jaaam.mp3",
          "Living Island.mp3",
          "Me Lurv Oo.wav",
          "Mellow Brick Road.mp3",
          "Mighty Woosh.mp3",
          "Muppet Mix.mp3",
          "Murmurs Of Middle-Earth.mp3",
          "Our Last Moments.mp3",
          "Out Deep.mp3",
          "Pinocchionic.mp3",
          "Prop My Sky.mp3",
          "PuffLove.mp3",
          "Reverso Poppins.mp3",
          "Sugarella.mp3",
          "Swashbuckle.mp3",
          "The Planet.mp3",
          "ToyzNoize.mp3",
          "WalkingOnADream(PogoEdit).mp3",
          "What I Likes.mp3",
          "Whisperlude.mp3",
          "Wishery.mp3",
          "ZooZoo.mp3"
         ],
         "legendgroup": "Pogo",
         "marker": {
          "color": "#ab63fa",
          "symbol": "circle"
         },
         "mode": "markers",
         "name": "Pogo",
         "orientation": "v",
         "showlegend": true,
         "type": "scatter",
         "x": [
          7.944011211395264,
          12.868247032165527,
          3.784257173538208,
          12.700630187988281,
          2.0567283630371094,
          0.6812288761138916,
          12.9839506149292,
          9.260221481323242,
          3.9003758430480957,
          11.379387855529785,
          3.777073383331299,
          6.354339599609375,
          11.043885231018066,
          4.6028547286987305,
          12.961389541625977,
          2.119020462036133,
          9.023859024047852,
          5.296043872833252,
          5.006687164306641,
          11.283904075622559,
          11.522567749023438,
          6.102837562561035,
          0.7502279281616211,
          0.7912940382957458,
          1.2889388799667358,
          0.6452646255493164,
          7.786362171173096,
          0.555709183216095,
          0.6723542809486389,
          9.831658363342285,
          9.392922401428223,
          0.5864374041557312,
          5.113237380981445,
          0.5256591439247131,
          0.6139559745788574,
          10.795761108398438,
          0.7213752865791321,
          10.572113037109375,
          0.639130711555481,
          1.0378313064575195,
          12.901344299316406,
          4.139570713043213,
          12.462566375732422,
          0.682586669921875,
          0.9618927240371704,
          0.6589274406433105,
          1.490264654159546,
          0.6682064533233643,
          4.576498031616211,
          5.360086917877197,
          1.6078890562057495,
          0.839633047580719,
          9.267313003540039,
          0.7774582505226135,
          12.904973030090332,
          13.0060396194458,
          0.6206496953964233,
          10.696263313293457,
          0.5291638970375061,
          11.895304679870605,
          11.010485649108887,
          0.8116830587387085,
          6.923607349395752,
          0.7198195457458496,
          0.5360286831855774,
          7.609760761260986,
          0.7182971239089966,
          3.8655765056610107,
          0.7004259824752808
         ],
         "xaxis": "x",
         "y": [
          14.13045597076416,
          10.562564849853516,
          11.062041282653809,
          10.932023048400879,
          6.048243045806885,
          3.0881779193878174,
          10.63734245300293,
          13.90931510925293,
          11.1883544921875,
          13.280580520629883,
          11.261234283447266,
          14.0758695602417,
          13.544999122619629,
          12.372859001159668,
          10.615297317504883,
          5.8980488777160645,
          14.089974403381348,
          13.272579193115234,
          12.924821853637695,
          13.326841354370117,
          13.159027099609375,
          14.065384864807129,
          1.591549038887024,
          0.5062466859817505,
          4.337791919708252,
          3.282423496246338,
          14.163586616516113,
          3.399632692337036,
          1.120928406715393,
          13.7354736328125,
          13.818818092346191,
          2.9045073986053467,
          13.050554275512695,
          -0.7418397665023804,
          -1.1788809299468994,
          13.459362983703613,
          -1.4643642902374268,
          13.60214900970459,
          -0.47782108187675476,
          3.1136181354522705,
          10.570898056030273,
          11.461383819580078,
          11.28520679473877,
          0.699066162109375,
          1.2541677951812744,
          -1.3771936893463135,
          4.600564002990723,
          0.4516080915927887,
          12.45335578918457,
          13.059667587280273,
          4.813307762145996,
          1.6439101696014404,
          13.939569473266602,
          3.143129587173462,
          10.612862586975098,
          10.505610466003418,
          -0.8678080439567566,
          13.542874336242676,
          3.072199821472168,
          12.213120460510254,
          13.581092834472656,
          -0.8347889184951782,
          13.67873477935791,
          -1.4297409057617188,
          -0.2209082841873169,
          14.048251152038574,
          3.499905586242676,
          11.771483421325684,
          -1.3894683122634888
         ],
         "yaxis": "y"
        }
       ],
       "layout": {
        "legend": {
         "title": {
          "text": "Artist"
         },
         "tracegroupgap": 0
        },
        "template": {
         "data": {
          "bar": [
           {
            "error_x": {
             "color": "#2a3f5f"
            },
            "error_y": {
             "color": "#2a3f5f"
            },
            "marker": {
             "line": {
              "color": "#E5ECF6",
              "width": 0.5
             },
             "pattern": {
              "fillmode": "overlay",
              "size": 10,
              "solidity": 0.2
             }
            },
            "type": "bar"
           }
          ],
          "barpolar": [
           {
            "marker": {
             "line": {
              "color": "#E5ECF6",
              "width": 0.5
             },
             "pattern": {
              "fillmode": "overlay",
              "size": 10,
              "solidity": 0.2
             }
            },
            "type": "barpolar"
           }
          ],
          "carpet": [
           {
            "aaxis": {
             "endlinecolor": "#2a3f5f",
             "gridcolor": "white",
             "linecolor": "white",
             "minorgridcolor": "white",
             "startlinecolor": "#2a3f5f"
            },
            "baxis": {
             "endlinecolor": "#2a3f5f",
             "gridcolor": "white",
             "linecolor": "white",
             "minorgridcolor": "white",
             "startlinecolor": "#2a3f5f"
            },
            "type": "carpet"
           }
          ],
          "choropleth": [
           {
            "colorbar": {
             "outlinewidth": 0,
             "ticks": ""
            },
            "type": "choropleth"
           }
          ],
          "contour": [
           {
            "colorbar": {
             "outlinewidth": 0,
             "ticks": ""
            },
            "colorscale": [
             [
              0,
              "#0d0887"
             ],
             [
              0.1111111111111111,
              "#46039f"
             ],
             [
              0.2222222222222222,
              "#7201a8"
             ],
             [
              0.3333333333333333,
              "#9c179e"
             ],
             [
              0.4444444444444444,
              "#bd3786"
             ],
             [
              0.5555555555555556,
              "#d8576b"
             ],
             [
              0.6666666666666666,
              "#ed7953"
             ],
             [
              0.7777777777777778,
              "#fb9f3a"
             ],
             [
              0.8888888888888888,
              "#fdca26"
             ],
             [
              1,
              "#f0f921"
             ]
            ],
            "type": "contour"
           }
          ],
          "contourcarpet": [
           {
            "colorbar": {
             "outlinewidth": 0,
             "ticks": ""
            },
            "type": "contourcarpet"
           }
          ],
          "heatmap": [
           {
            "colorbar": {
             "outlinewidth": 0,
             "ticks": ""
            },
            "colorscale": [
             [
              0,
              "#0d0887"
             ],
             [
              0.1111111111111111,
              "#46039f"
             ],
             [
              0.2222222222222222,
              "#7201a8"
             ],
             [
              0.3333333333333333,
              "#9c179e"
             ],
             [
              0.4444444444444444,
              "#bd3786"
             ],
             [
              0.5555555555555556,
              "#d8576b"
             ],
             [
              0.6666666666666666,
              "#ed7953"
             ],
             [
              0.7777777777777778,
              "#fb9f3a"
             ],
             [
              0.8888888888888888,
              "#fdca26"
             ],
             [
              1,
              "#f0f921"
             ]
            ],
            "type": "heatmap"
           }
          ],
          "heatmapgl": [
           {
            "colorbar": {
             "outlinewidth": 0,
             "ticks": ""
            },
            "colorscale": [
             [
              0,
              "#0d0887"
             ],
             [
              0.1111111111111111,
              "#46039f"
             ],
             [
              0.2222222222222222,
              "#7201a8"
             ],
             [
              0.3333333333333333,
              "#9c179e"
             ],
             [
              0.4444444444444444,
              "#bd3786"
             ],
             [
              0.5555555555555556,
              "#d8576b"
             ],
             [
              0.6666666666666666,
              "#ed7953"
             ],
             [
              0.7777777777777778,
              "#fb9f3a"
             ],
             [
              0.8888888888888888,
              "#fdca26"
             ],
             [
              1,
              "#f0f921"
             ]
            ],
            "type": "heatmapgl"
           }
          ],
          "histogram": [
           {
            "marker": {
             "pattern": {
              "fillmode": "overlay",
              "size": 10,
              "solidity": 0.2
             }
            },
            "type": "histogram"
           }
          ],
          "histogram2d": [
           {
            "colorbar": {
             "outlinewidth": 0,
             "ticks": ""
            },
            "colorscale": [
             [
              0,
              "#0d0887"
             ],
             [
              0.1111111111111111,
              "#46039f"
             ],
             [
              0.2222222222222222,
              "#7201a8"
             ],
             [
              0.3333333333333333,
              "#9c179e"
             ],
             [
              0.4444444444444444,
              "#bd3786"
             ],
             [
              0.5555555555555556,
              "#d8576b"
             ],
             [
              0.6666666666666666,
              "#ed7953"
             ],
             [
              0.7777777777777778,
              "#fb9f3a"
             ],
             [
              0.8888888888888888,
              "#fdca26"
             ],
             [
              1,
              "#f0f921"
             ]
            ],
            "type": "histogram2d"
           }
          ],
          "histogram2dcontour": [
           {
            "colorbar": {
             "outlinewidth": 0,
             "ticks": ""
            },
            "colorscale": [
             [
              0,
              "#0d0887"
             ],
             [
              0.1111111111111111,
              "#46039f"
             ],
             [
              0.2222222222222222,
              "#7201a8"
             ],
             [
              0.3333333333333333,
              "#9c179e"
             ],
             [
              0.4444444444444444,
              "#bd3786"
             ],
             [
              0.5555555555555556,
              "#d8576b"
             ],
             [
              0.6666666666666666,
              "#ed7953"
             ],
             [
              0.7777777777777778,
              "#fb9f3a"
             ],
             [
              0.8888888888888888,
              "#fdca26"
             ],
             [
              1,
              "#f0f921"
             ]
            ],
            "type": "histogram2dcontour"
           }
          ],
          "mesh3d": [
           {
            "colorbar": {
             "outlinewidth": 0,
             "ticks": ""
            },
            "type": "mesh3d"
           }
          ],
          "parcoords": [
           {
            "line": {
             "colorbar": {
              "outlinewidth": 0,
              "ticks": ""
             }
            },
            "type": "parcoords"
           }
          ],
          "pie": [
           {
            "automargin": true,
            "type": "pie"
           }
          ],
          "scatter": [
           {
            "fillpattern": {
             "fillmode": "overlay",
             "size": 10,
             "solidity": 0.2
            },
            "type": "scatter"
           }
          ],
          "scatter3d": [
           {
            "line": {
             "colorbar": {
              "outlinewidth": 0,
              "ticks": ""
             }
            },
            "marker": {
             "colorbar": {
              "outlinewidth": 0,
              "ticks": ""
             }
            },
            "type": "scatter3d"
           }
          ],
          "scattercarpet": [
           {
            "marker": {
             "colorbar": {
              "outlinewidth": 0,
              "ticks": ""
             }
            },
            "type": "scattercarpet"
           }
          ],
          "scattergeo": [
           {
            "marker": {
             "colorbar": {
              "outlinewidth": 0,
              "ticks": ""
             }
            },
            "type": "scattergeo"
           }
          ],
          "scattergl": [
           {
            "marker": {
             "colorbar": {
              "outlinewidth": 0,
              "ticks": ""
             }
            },
            "type": "scattergl"
           }
          ],
          "scattermapbox": [
           {
            "marker": {
             "colorbar": {
              "outlinewidth": 0,
              "ticks": ""
             }
            },
            "type": "scattermapbox"
           }
          ],
          "scatterpolar": [
           {
            "marker": {
             "colorbar": {
              "outlinewidth": 0,
              "ticks": ""
             }
            },
            "type": "scatterpolar"
           }
          ],
          "scatterpolargl": [
           {
            "marker": {
             "colorbar": {
              "outlinewidth": 0,
              "ticks": ""
             }
            },
            "type": "scatterpolargl"
           }
          ],
          "scatterternary": [
           {
            "marker": {
             "colorbar": {
              "outlinewidth": 0,
              "ticks": ""
             }
            },
            "type": "scatterternary"
           }
          ],
          "surface": [
           {
            "colorbar": {
             "outlinewidth": 0,
             "ticks": ""
            },
            "colorscale": [
             [
              0,
              "#0d0887"
             ],
             [
              0.1111111111111111,
              "#46039f"
             ],
             [
              0.2222222222222222,
              "#7201a8"
             ],
             [
              0.3333333333333333,
              "#9c179e"
             ],
             [
              0.4444444444444444,
              "#bd3786"
             ],
             [
              0.5555555555555556,
              "#d8576b"
             ],
             [
              0.6666666666666666,
              "#ed7953"
             ],
             [
              0.7777777777777778,
              "#fb9f3a"
             ],
             [
              0.8888888888888888,
              "#fdca26"
             ],
             [
              1,
              "#f0f921"
             ]
            ],
            "type": "surface"
           }
          ],
          "table": [
           {
            "cells": {
             "fill": {
              "color": "#EBF0F8"
             },
             "line": {
              "color": "white"
             }
            },
            "header": {
             "fill": {
              "color": "#C8D4E3"
             },
             "line": {
              "color": "white"
             }
            },
            "type": "table"
           }
          ]
         },
         "layout": {
          "annotationdefaults": {
           "arrowcolor": "#2a3f5f",
           "arrowhead": 0,
           "arrowwidth": 1
          },
          "autotypenumbers": "strict",
          "coloraxis": {
           "colorbar": {
            "outlinewidth": 0,
            "ticks": ""
           }
          },
          "colorscale": {
           "diverging": [
            [
             0,
             "#8e0152"
            ],
            [
             0.1,
             "#c51b7d"
            ],
            [
             0.2,
             "#de77ae"
            ],
            [
             0.3,
             "#f1b6da"
            ],
            [
             0.4,
             "#fde0ef"
            ],
            [
             0.5,
             "#f7f7f7"
            ],
            [
             0.6,
             "#e6f5d0"
            ],
            [
             0.7,
             "#b8e186"
            ],
            [
             0.8,
             "#7fbc41"
            ],
            [
             0.9,
             "#4d9221"
            ],
            [
             1,
             "#276419"
            ]
           ],
           "sequential": [
            [
             0,
             "#0d0887"
            ],
            [
             0.1111111111111111,
             "#46039f"
            ],
            [
             0.2222222222222222,
             "#7201a8"
            ],
            [
             0.3333333333333333,
             "#9c179e"
            ],
            [
             0.4444444444444444,
             "#bd3786"
            ],
            [
             0.5555555555555556,
             "#d8576b"
            ],
            [
             0.6666666666666666,
             "#ed7953"
            ],
            [
             0.7777777777777778,
             "#fb9f3a"
            ],
            [
             0.8888888888888888,
             "#fdca26"
            ],
            [
             1,
             "#f0f921"
            ]
           ],
           "sequentialminus": [
            [
             0,
             "#0d0887"
            ],
            [
             0.1111111111111111,
             "#46039f"
            ],
            [
             0.2222222222222222,
             "#7201a8"
            ],
            [
             0.3333333333333333,
             "#9c179e"
            ],
            [
             0.4444444444444444,
             "#bd3786"
            ],
            [
             0.5555555555555556,
             "#d8576b"
            ],
            [
             0.6666666666666666,
             "#ed7953"
            ],
            [
             0.7777777777777778,
             "#fb9f3a"
            ],
            [
             0.8888888888888888,
             "#fdca26"
            ],
            [
             1,
             "#f0f921"
            ]
           ]
          },
          "colorway": [
           "#636efa",
           "#EF553B",
           "#00cc96",
           "#ab63fa",
           "#FFA15A",
           "#19d3f3",
           "#FF6692",
           "#B6E880",
           "#FF97FF",
           "#FECB52"
          ],
          "font": {
           "color": "#2a3f5f"
          },
          "geo": {
           "bgcolor": "white",
           "lakecolor": "white",
           "landcolor": "#E5ECF6",
           "showlakes": true,
           "showland": true,
           "subunitcolor": "white"
          },
          "hoverlabel": {
           "align": "left"
          },
          "hovermode": "closest",
          "mapbox": {
           "style": "light"
          },
          "paper_bgcolor": "white",
          "plot_bgcolor": "#E5ECF6",
          "polar": {
           "angularaxis": {
            "gridcolor": "white",
            "linecolor": "white",
            "ticks": ""
           },
           "bgcolor": "#E5ECF6",
           "radialaxis": {
            "gridcolor": "white",
            "linecolor": "white",
            "ticks": ""
           }
          },
          "scene": {
           "xaxis": {
            "backgroundcolor": "#E5ECF6",
            "gridcolor": "white",
            "gridwidth": 2,
            "linecolor": "white",
            "showbackground": true,
            "ticks": "",
            "zerolinecolor": "white"
           },
           "yaxis": {
            "backgroundcolor": "#E5ECF6",
            "gridcolor": "white",
            "gridwidth": 2,
            "linecolor": "white",
            "showbackground": true,
            "ticks": "",
            "zerolinecolor": "white"
           },
           "zaxis": {
            "backgroundcolor": "#E5ECF6",
            "gridcolor": "white",
            "gridwidth": 2,
            "linecolor": "white",
            "showbackground": true,
            "ticks": "",
            "zerolinecolor": "white"
           }
          },
          "shapedefaults": {
           "line": {
            "color": "#2a3f5f"
           }
          },
          "ternary": {
           "aaxis": {
            "gridcolor": "white",
            "linecolor": "white",
            "ticks": ""
           },
           "baxis": {
            "gridcolor": "white",
            "linecolor": "white",
            "ticks": ""
           },
           "bgcolor": "#E5ECF6",
           "caxis": {
            "gridcolor": "white",
            "linecolor": "white",
            "ticks": ""
           }
          },
          "title": {
           "x": 0.05
          },
          "xaxis": {
           "automargin": true,
           "gridcolor": "white",
           "linecolor": "white",
           "ticks": "",
           "title": {
            "standoff": 15
           },
           "zerolinecolor": "white",
           "zerolinewidth": 2
          },
          "yaxis": {
           "automargin": true,
           "gridcolor": "white",
           "linecolor": "white",
           "ticks": "",
           "title": {
            "standoff": 15
           },
           "zerolinecolor": "white",
           "zerolinewidth": 2
          }
         }
        },
        "title": {
         "text": "UMAP projection of songs by artist"
        },
        "xaxis": {
         "anchor": "y",
         "domain": [
          0,
          1
         ],
         "title": {
          "text": "UMAP1"
         }
        },
        "yaxis": {
         "anchor": "x",
         "domain": [
          0,
          1
         ],
         "title": {
          "text": "UMAP2"
         }
        }
       }
      }
     },
     "metadata": {},
     "output_type": "display_data"
    }
   ],
   "source": [
    "fig = px.scatter(plot_df, x='UMAP1', y='UMAP2', color='Artist', hover_name='Track', title='UMAP projection of songs by artist')\n",
    "fig.update_traces(hovertemplate='<b>%{hovertext}</b><br>Artist: %{customdata}')\n",
    "fig.update_traces(customdata=plot_df['Artist'])"
   ]
  },
  {
   "cell_type": "code",
   "execution_count": null,
   "metadata": {},
   "outputs": [],
   "source": []
  }
 ],
 "metadata": {
  "kernelspec": {
   "display_name": "Python 3",
   "language": "python",
   "name": "python3"
  },
  "language_info": {
   "codemirror_mode": {
    "name": "ipython",
    "version": 3
   },
   "file_extension": ".py",
   "mimetype": "text/x-python",
   "name": "python",
   "nbconvert_exporter": "python",
   "pygments_lexer": "ipython3",
   "version": "3.10.6"
  }
 },
 "nbformat": 4,
 "nbformat_minor": 2
}
