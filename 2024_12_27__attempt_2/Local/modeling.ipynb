{
 "cells": [
  {
   "cell_type": "markdown",
   "metadata": {},
   "source": [
    "# Start with a multiclass classifier"
   ]
  },
  {
   "cell_type": "code",
   "execution_count": 1,
   "metadata": {},
   "outputs": [],
   "source": [
    "import pandas as pd\n",
    "from sklearn.ensemble import RandomForestClassifier\n",
    "from sklearn.neighbors import KNeighborsClassifier\n",
    "from sklearn.model_selection import train_test_split\n",
    "from sklearn.metrics import accuracy_score\n",
    "import numpy as np"
   ]
  },
  {
   "cell_type": "markdown",
   "metadata": {},
   "source": [
    "## Read in data"
   ]
  },
  {
   "cell_type": "code",
   "execution_count": 2,
   "metadata": {},
   "outputs": [],
   "source": [
    "df_music = pd.read_pickle('extracted data/2025_01_07_local_music_librosa_features.pkl')"
   ]
  },
  {
   "cell_type": "markdown",
   "metadata": {},
   "source": [
    "## Modeling"
   ]
  },
  {
   "cell_type": "code",
   "execution_count": 3,
   "metadata": {},
   "outputs": [
    {
     "data": {
      "text/plain": [
       "Index(['mfcc_0', 'mfcc_1', 'mfcc_2', 'mfcc_3', 'mfcc_4', 'mfcc_5', 'mfcc_6',\n",
       "       'mfcc_7', 'mfcc_8', 'mfcc_9', 'mfcc_10', 'mfcc_11', 'mfcc_12',\n",
       "       'mfcc_13', 'mfcc_14', 'mfcc_15', 'mfcc_16', 'mfcc_17', 'mfcc_18',\n",
       "       'mfcc_19', 'spectral_centroid', 'chroma_0', 'chroma_1', 'chroma_2',\n",
       "       'chroma_3', 'chroma_4', 'chroma_5', 'chroma_6', 'chroma_7', 'chroma_8',\n",
       "       'chroma_9', 'chroma_10', 'chroma_11', 'tempo'],\n",
       "      dtype='object')"
      ]
     },
     "execution_count": 3,
     "metadata": {},
     "output_type": "execute_result"
    }
   ],
   "source": [
    "# Select features (from mfcc_0 to tempo)\n",
    "feature_columns = df_music.columns[df_music.columns.get_loc('mfcc_0'):df_music.columns.get_loc('tempo')+1]\n",
    "feature_columns"
   ]
  },
  {
   "cell_type": "code",
   "execution_count": 4,
   "metadata": {},
   "outputs": [],
   "source": [
    "# Create feature matrix and labels\n",
    "X = df_music[feature_columns].values\n",
    "y = df_music['artist'].values"
   ]
  },
  {
   "cell_type": "code",
   "execution_count": 9,
   "metadata": {},
   "outputs": [],
   "source": [
    "# Split data\n",
    "X_train, X_test, y_train, y_test = train_test_split(X, y, test_size=0.2, random_state=42)\n",
    "\n",
    "# For track names\n",
    "_, test_indices = train_test_split(range(len(df_music)), test_size=0.2, random_state=42)"
   ]
  },
  {
   "cell_type": "markdown",
   "metadata": {},
   "source": [
    "### RF"
   ]
  },
  {
   "cell_type": "code",
   "execution_count": 6,
   "metadata": {},
   "outputs": [
    {
     "data": {
      "text/html": [
       "<style>#sk-container-id-1 {color: black;background-color: white;}#sk-container-id-1 pre{padding: 0;}#sk-container-id-1 div.sk-toggleable {background-color: white;}#sk-container-id-1 label.sk-toggleable__label {cursor: pointer;display: block;width: 100%;margin-bottom: 0;padding: 0.3em;box-sizing: border-box;text-align: center;}#sk-container-id-1 label.sk-toggleable__label-arrow:before {content: \"▸\";float: left;margin-right: 0.25em;color: #696969;}#sk-container-id-1 label.sk-toggleable__label-arrow:hover:before {color: black;}#sk-container-id-1 div.sk-estimator:hover label.sk-toggleable__label-arrow:before {color: black;}#sk-container-id-1 div.sk-toggleable__content {max-height: 0;max-width: 0;overflow: hidden;text-align: left;background-color: #f0f8ff;}#sk-container-id-1 div.sk-toggleable__content pre {margin: 0.2em;color: black;border-radius: 0.25em;background-color: #f0f8ff;}#sk-container-id-1 input.sk-toggleable__control:checked~div.sk-toggleable__content {max-height: 200px;max-width: 100%;overflow: auto;}#sk-container-id-1 input.sk-toggleable__control:checked~label.sk-toggleable__label-arrow:before {content: \"▾\";}#sk-container-id-1 div.sk-estimator input.sk-toggleable__control:checked~label.sk-toggleable__label {background-color: #d4ebff;}#sk-container-id-1 div.sk-label input.sk-toggleable__control:checked~label.sk-toggleable__label {background-color: #d4ebff;}#sk-container-id-1 input.sk-hidden--visually {border: 0;clip: rect(1px 1px 1px 1px);clip: rect(1px, 1px, 1px, 1px);height: 1px;margin: -1px;overflow: hidden;padding: 0;position: absolute;width: 1px;}#sk-container-id-1 div.sk-estimator {font-family: monospace;background-color: #f0f8ff;border: 1px dotted black;border-radius: 0.25em;box-sizing: border-box;margin-bottom: 0.5em;}#sk-container-id-1 div.sk-estimator:hover {background-color: #d4ebff;}#sk-container-id-1 div.sk-parallel-item::after {content: \"\";width: 100%;border-bottom: 1px solid gray;flex-grow: 1;}#sk-container-id-1 div.sk-label:hover label.sk-toggleable__label {background-color: #d4ebff;}#sk-container-id-1 div.sk-serial::before {content: \"\";position: absolute;border-left: 1px solid gray;box-sizing: border-box;top: 0;bottom: 0;left: 50%;z-index: 0;}#sk-container-id-1 div.sk-serial {display: flex;flex-direction: column;align-items: center;background-color: white;padding-right: 0.2em;padding-left: 0.2em;position: relative;}#sk-container-id-1 div.sk-item {position: relative;z-index: 1;}#sk-container-id-1 div.sk-parallel {display: flex;align-items: stretch;justify-content: center;background-color: white;position: relative;}#sk-container-id-1 div.sk-item::before, #sk-container-id-1 div.sk-parallel-item::before {content: \"\";position: absolute;border-left: 1px solid gray;box-sizing: border-box;top: 0;bottom: 0;left: 50%;z-index: -1;}#sk-container-id-1 div.sk-parallel-item {display: flex;flex-direction: column;z-index: 1;position: relative;background-color: white;}#sk-container-id-1 div.sk-parallel-item:first-child::after {align-self: flex-end;width: 50%;}#sk-container-id-1 div.sk-parallel-item:last-child::after {align-self: flex-start;width: 50%;}#sk-container-id-1 div.sk-parallel-item:only-child::after {width: 0;}#sk-container-id-1 div.sk-dashed-wrapped {border: 1px dashed gray;margin: 0 0.4em 0.5em 0.4em;box-sizing: border-box;padding-bottom: 0.4em;background-color: white;}#sk-container-id-1 div.sk-label label {font-family: monospace;font-weight: bold;display: inline-block;line-height: 1.2em;}#sk-container-id-1 div.sk-label-container {text-align: center;}#sk-container-id-1 div.sk-container {/* jupyter's `normalize.less` sets `[hidden] { display: none; }` but bootstrap.min.css set `[hidden] { display: none !important; }` so we also need the `!important` here to be able to override the default hidden behavior on the sphinx rendered scikit-learn.org. See: https://github.com/scikit-learn/scikit-learn/issues/21755 */display: inline-block !important;position: relative;}#sk-container-id-1 div.sk-text-repr-fallback {display: none;}</style><div id=\"sk-container-id-1\" class=\"sk-top-container\"><div class=\"sk-text-repr-fallback\"><pre>RandomForestClassifier(random_state=42)</pre><b>In a Jupyter environment, please rerun this cell to show the HTML representation or trust the notebook. <br />On GitHub, the HTML representation is unable to render, please try loading this page with nbviewer.org.</b></div><div class=\"sk-container\" hidden><div class=\"sk-item\"><div class=\"sk-estimator sk-toggleable\"><input class=\"sk-toggleable__control sk-hidden--visually\" id=\"sk-estimator-id-1\" type=\"checkbox\" checked><label for=\"sk-estimator-id-1\" class=\"sk-toggleable__label sk-toggleable__label-arrow\">RandomForestClassifier</label><div class=\"sk-toggleable__content\"><pre>RandomForestClassifier(random_state=42)</pre></div></div></div></div></div>"
      ],
      "text/plain": [
       "RandomForestClassifier(random_state=42)"
      ]
     },
     "execution_count": 6,
     "metadata": {},
     "output_type": "execute_result"
    }
   ],
   "source": [
    "# Train model\n",
    "rf_clf = RandomForestClassifier(n_estimators=100, random_state=42)\n",
    "rf_clf.fit(X_train, y_train)"
   ]
  },
  {
   "cell_type": "code",
   "execution_count": 7,
   "metadata": {},
   "outputs": [
    {
     "name": "stdout",
     "output_type": "stream",
     "text": [
      "Accuracy: 0.8409090909090909\n"
     ]
    }
   ],
   "source": [
    "# Evaluate model\n",
    "y_pred_rf = rf_clf.predict(X_test)\n",
    "accuracy_rf = accuracy_score(y_test, y_pred_rf)\n",
    "print(f\"Accuracy: {accuracy_rf}\")"
   ]
  },
  {
   "cell_type": "markdown",
   "metadata": {},
   "source": [
    "#### Dive deeper into RF performance"
   ]
  },
  {
   "cell_type": "code",
   "execution_count": 8,
   "metadata": {},
   "outputs": [],
   "source": [
    "# Create a DataFrame with actual and predicted labels\n",
    "results_df_rf = pd.DataFrame({\n",
    "    'Artist': y_test,\n",
    "    'Predicted': y_pred_rf,\n",
    "    'Correct': y_test == y_pred_rf\n",
    "})"
   ]
  },
  {
   "cell_type": "code",
   "execution_count": 10,
   "metadata": {},
   "outputs": [],
   "source": [
    "# Add track names (assuming they're in the same order as X_test)\n",
    "results_df_rf['Track'] = df_music['track_name'].values[test_indices]"
   ]
  },
  {
   "cell_type": "code",
   "execution_count": 11,
   "metadata": {},
   "outputs": [
    {
     "name": "stdout",
     "output_type": "stream",
     "text": [
      "Summary by Artist:\n",
      "                     Artist  Total  Correct Accuracy\n",
      "0         Animal Collective      8        7   87.50%\n",
      "1                      Pogo     15       15  100.00%\n",
      "2               The Strokes     13        9   69.23%\n",
      "3  The Tallest Man on Earth      8        6   75.00%\n"
     ]
    }
   ],
   "source": [
    "# Summary by artist\n",
    "artist_summary_rf = results_df_rf.groupby('Artist').agg({\n",
    "    'Correct': ['count', 'sum', lambda x: f\"{x.mean():.2%}\"]\n",
    "}).reset_index()\n",
    "artist_summary_rf.columns = ['Artist', 'Total', 'Correct', 'Accuracy']\n",
    "print(\"Summary by Artist:\")\n",
    "print(artist_summary_rf)"
   ]
  },
  {
   "cell_type": "code",
   "execution_count": 14,
   "metadata": {},
   "outputs": [
    {
     "name": "stdout",
     "output_type": "stream",
     "text": [
      "\n",
      "Mislabeled Songs - RF:\n",
      "Artist: The Strokes, Predicted: Animal Collective, Track: 04 12_51.m4a\n",
      "Artist: The Strokes, Predicted: Animal Collective, Track: 05 You Talk Way Too Much.m4a\n",
      "Artist: Animal Collective, Predicted: The Tallest Man on Earth, Track: 05 Bees.m4a\n",
      "Artist: The Strokes, Predicted: Animal Collective, Track: 01 Is This It.m4a\n",
      "Artist: The Strokes, Predicted: Animal Collective, Track: 11 Take It or Leave It.m4a\n",
      "Artist: The Tallest Man on Earth, Predicted: Animal Collective, Track: 07 Timothy.mp3\n",
      "Artist: The Tallest Man on Earth, Predicted: Animal Collective, Track: 02 Darkness of the Dream.mp3\n"
     ]
    }
   ],
   "source": [
    "# Display mislabeled songs\n",
    "mislabeled_rf = results_df_rf[~results_df_rf['Correct']]\n",
    "print(\"\\nMislabeled Songs - RF:\")\n",
    "for _, row in mislabeled_rf.iterrows():\n",
    "    print(f\"Artist: {row['Artist']}, Predicted: {row['Predicted']}, Track: {row['Track']}\")"
   ]
  },
  {
   "cell_type": "markdown",
   "metadata": {},
   "source": [
    "### KNN"
   ]
  },
  {
   "cell_type": "code",
   "execution_count": 15,
   "metadata": {},
   "outputs": [
    {
     "data": {
      "text/html": [
       "<style>#sk-container-id-2 {color: black;background-color: white;}#sk-container-id-2 pre{padding: 0;}#sk-container-id-2 div.sk-toggleable {background-color: white;}#sk-container-id-2 label.sk-toggleable__label {cursor: pointer;display: block;width: 100%;margin-bottom: 0;padding: 0.3em;box-sizing: border-box;text-align: center;}#sk-container-id-2 label.sk-toggleable__label-arrow:before {content: \"▸\";float: left;margin-right: 0.25em;color: #696969;}#sk-container-id-2 label.sk-toggleable__label-arrow:hover:before {color: black;}#sk-container-id-2 div.sk-estimator:hover label.sk-toggleable__label-arrow:before {color: black;}#sk-container-id-2 div.sk-toggleable__content {max-height: 0;max-width: 0;overflow: hidden;text-align: left;background-color: #f0f8ff;}#sk-container-id-2 div.sk-toggleable__content pre {margin: 0.2em;color: black;border-radius: 0.25em;background-color: #f0f8ff;}#sk-container-id-2 input.sk-toggleable__control:checked~div.sk-toggleable__content {max-height: 200px;max-width: 100%;overflow: auto;}#sk-container-id-2 input.sk-toggleable__control:checked~label.sk-toggleable__label-arrow:before {content: \"▾\";}#sk-container-id-2 div.sk-estimator input.sk-toggleable__control:checked~label.sk-toggleable__label {background-color: #d4ebff;}#sk-container-id-2 div.sk-label input.sk-toggleable__control:checked~label.sk-toggleable__label {background-color: #d4ebff;}#sk-container-id-2 input.sk-hidden--visually {border: 0;clip: rect(1px 1px 1px 1px);clip: rect(1px, 1px, 1px, 1px);height: 1px;margin: -1px;overflow: hidden;padding: 0;position: absolute;width: 1px;}#sk-container-id-2 div.sk-estimator {font-family: monospace;background-color: #f0f8ff;border: 1px dotted black;border-radius: 0.25em;box-sizing: border-box;margin-bottom: 0.5em;}#sk-container-id-2 div.sk-estimator:hover {background-color: #d4ebff;}#sk-container-id-2 div.sk-parallel-item::after {content: \"\";width: 100%;border-bottom: 1px solid gray;flex-grow: 1;}#sk-container-id-2 div.sk-label:hover label.sk-toggleable__label {background-color: #d4ebff;}#sk-container-id-2 div.sk-serial::before {content: \"\";position: absolute;border-left: 1px solid gray;box-sizing: border-box;top: 0;bottom: 0;left: 50%;z-index: 0;}#sk-container-id-2 div.sk-serial {display: flex;flex-direction: column;align-items: center;background-color: white;padding-right: 0.2em;padding-left: 0.2em;position: relative;}#sk-container-id-2 div.sk-item {position: relative;z-index: 1;}#sk-container-id-2 div.sk-parallel {display: flex;align-items: stretch;justify-content: center;background-color: white;position: relative;}#sk-container-id-2 div.sk-item::before, #sk-container-id-2 div.sk-parallel-item::before {content: \"\";position: absolute;border-left: 1px solid gray;box-sizing: border-box;top: 0;bottom: 0;left: 50%;z-index: -1;}#sk-container-id-2 div.sk-parallel-item {display: flex;flex-direction: column;z-index: 1;position: relative;background-color: white;}#sk-container-id-2 div.sk-parallel-item:first-child::after {align-self: flex-end;width: 50%;}#sk-container-id-2 div.sk-parallel-item:last-child::after {align-self: flex-start;width: 50%;}#sk-container-id-2 div.sk-parallel-item:only-child::after {width: 0;}#sk-container-id-2 div.sk-dashed-wrapped {border: 1px dashed gray;margin: 0 0.4em 0.5em 0.4em;box-sizing: border-box;padding-bottom: 0.4em;background-color: white;}#sk-container-id-2 div.sk-label label {font-family: monospace;font-weight: bold;display: inline-block;line-height: 1.2em;}#sk-container-id-2 div.sk-label-container {text-align: center;}#sk-container-id-2 div.sk-container {/* jupyter's `normalize.less` sets `[hidden] { display: none; }` but bootstrap.min.css set `[hidden] { display: none !important; }` so we also need the `!important` here to be able to override the default hidden behavior on the sphinx rendered scikit-learn.org. See: https://github.com/scikit-learn/scikit-learn/issues/21755 */display: inline-block !important;position: relative;}#sk-container-id-2 div.sk-text-repr-fallback {display: none;}</style><div id=\"sk-container-id-2\" class=\"sk-top-container\"><div class=\"sk-text-repr-fallback\"><pre>KNeighborsClassifier()</pre><b>In a Jupyter environment, please rerun this cell to show the HTML representation or trust the notebook. <br />On GitHub, the HTML representation is unable to render, please try loading this page with nbviewer.org.</b></div><div class=\"sk-container\" hidden><div class=\"sk-item\"><div class=\"sk-estimator sk-toggleable\"><input class=\"sk-toggleable__control sk-hidden--visually\" id=\"sk-estimator-id-2\" type=\"checkbox\" checked><label for=\"sk-estimator-id-2\" class=\"sk-toggleable__label sk-toggleable__label-arrow\">KNeighborsClassifier</label><div class=\"sk-toggleable__content\"><pre>KNeighborsClassifier()</pre></div></div></div></div></div>"
      ],
      "text/plain": [
       "KNeighborsClassifier()"
      ]
     },
     "execution_count": 15,
     "metadata": {},
     "output_type": "execute_result"
    }
   ],
   "source": [
    "# Train model (using 5 neighbors as an example, you can adjust this)\n",
    "knn = KNeighborsClassifier(n_neighbors=5)\n",
    "knn.fit(X_train, y_train)"
   ]
  },
  {
   "cell_type": "code",
   "execution_count": 16,
   "metadata": {},
   "outputs": [],
   "source": [
    "# Make predictions on the test set\n",
    "y_pred_knn = knn.predict(X_test)"
   ]
  },
  {
   "cell_type": "code",
   "execution_count": 17,
   "metadata": {},
   "outputs": [
    {
     "name": "stdout",
     "output_type": "stream",
     "text": [
      "Accuracy: 45.45%\n"
     ]
    }
   ],
   "source": [
    "# Calculate accuracy\n",
    "accuracy_knn = accuracy_score(y_test, y_pred_knn)\n",
    "print(f\"Accuracy: {accuracy_knn:.2%}\")"
   ]
  },
  {
   "cell_type": "markdown",
   "metadata": {},
   "source": [
    "#### Dive deeper into KNN performance"
   ]
  },
  {
   "cell_type": "code",
   "execution_count": 18,
   "metadata": {},
   "outputs": [
    {
     "name": "stdout",
     "output_type": "stream",
     "text": [
      "\n",
      "Summary by Artist:\n",
      "                     Artist  Total  Correct Accuracy\n",
      "0         Animal Collective      8        3   37.50%\n",
      "1                      Pogo     15       10   66.67%\n",
      "2               The Strokes     13        5   38.46%\n",
      "3  The Tallest Man on Earth      8        2   25.00%\n"
     ]
    }
   ],
   "source": [
    "# Create a DataFrame with actual and predicted labels\n",
    "results_df_knn = pd.DataFrame({\n",
    "    'Artist': y_test,\n",
    "    'Predicted': y_pred_knn,\n",
    "    'Correct': y_test == y_pred_knn\n",
    "})\n",
    "\n",
    "# Add track names (assuming they're in the same order as X_test)\n",
    "results_df_knn['Track'] = df_music['track_name'].values[test_indices]\n",
    "\n",
    "# Summary by artist\n",
    "artist_summary_knn = results_df_knn.groupby('Artist').agg({\n",
    "    'Correct': ['count', 'sum', lambda x: f\"{x.mean():.2%}\"]\n",
    "}).reset_index()\n",
    "artist_summary_knn.columns = ['Artist', 'Total', 'Correct', 'Accuracy']\n",
    "print(\"\\nSummary by Artist:\")\n",
    "print(artist_summary_knn)"
   ]
  },
  {
   "cell_type": "code",
   "execution_count": 19,
   "metadata": {},
   "outputs": [
    {
     "name": "stdout",
     "output_type": "stream",
     "text": [
      "\n",
      "Mislabeled Songs - KNN:\n",
      "Artist: The Strokes, Predicted: Animal Collective, Track: 04 12_51.m4a\n",
      "Artist: Pogo, Predicted: The Tallest Man on Earth, Track: Pogo - Star Charts - 10 The Climb.mp3\n",
      "Artist: Animal Collective, Predicted: The Tallest Man on Earth, Track: 01-02 - Man Of Oil.mp3\n",
      "Artist: The Tallest Man on Earth, Predicted: Pogo, Track: TheTallestManOnEarth-Shallowgrave-02-PistolDreams.mp3\n",
      "Artist: Animal Collective, Predicted: The Tallest Man on Earth, Track: 05 Bees.m4a\n",
      "Artist: The Tallest Man on Earth, Predicted: Pogo, Track: 06 King of Spain.mp3\n",
      "Artist: Pogo, Predicted: The Tallest Man on Earth, Track: Pogo - Star Charts - 09 Do Something Rhythmic.mp3\n",
      "Artist: Pogo, Predicted: Animal Collective, Track: 精神 _ Pogo_284667071_soundcloud.mp3\n",
      "Artist: The Tallest Man on Earth, Predicted: Animal Collective, Track: 05 The Drying of the Lawns.mp3\n",
      "Artist: Pogo, Predicted: Animal Collective, Track: Buzzwing.mp3\n",
      "Artist: The Strokes, Predicted: Animal Collective, Track: 11 I Can't Win.m4a\n",
      "Artist: Animal Collective, Predicted: Pogo, Track: 02-01 - Amazonawana  Anaconda Opportunity.mp3\n",
      "Artist: Animal Collective, Predicted: The Strokes, Track: 05 Fireworks.m4a\n",
      "Artist: Pogo, Predicted: Animal Collective, Track: Muppet Mix.mp3\n",
      "Artist: The Strokes, Predicted: The Tallest Man on Earth, Track: 07 Call Me Back.mp3\n",
      "Artist: Animal Collective, Predicted: Pogo, Track: 06 Sweet Road.m4a\n",
      "Artist: The Strokes, Predicted: Animal Collective, Track: 10 Life Is Simple in the Moonlight.mp3\n",
      "Artist: The Strokes, Predicted: Animal Collective, Track: 01 Is This It.m4a\n",
      "Artist: The Strokes, Predicted: Animal Collective, Track: 04 Barely Legal.m4a\n",
      "Artist: The Tallest Man on Earth, Predicted: Pogo, Track: TheTallestManOnEarth-Shallowgrave-04-ShallowGrave.mp3\n",
      "Artist: The Strokes, Predicted: Animal Collective, Track: 06 Games.mp3\n",
      "Artist: The Tallest Man on Earth, Predicted: Animal Collective, Track: 07 Timothy.mp3\n",
      "Artist: The Strokes, Predicted: Pogo, Track: 05 Taken For A Fool.mp3\n",
      "Artist: The Tallest Man on Earth, Predicted: Animal Collective, Track: 02 Darkness of the Dream.mp3\n"
     ]
    }
   ],
   "source": [
    "# Display mislabeled songs\n",
    "mislabeled_knn = results_df_knn[~results_df_knn['Correct']]\n",
    "print(\"\\nMislabeled Songs - KNN:\")\n",
    "for _, row in mislabeled_knn.iterrows():\n",
    "    print(f\"Artist: {row['Artist']}, Predicted: {row['Predicted']}, Track: {row['Track']}\")"
   ]
  },
  {
   "cell_type": "markdown",
   "metadata": {},
   "source": [
    "## Report"
   ]
  },
  {
   "cell_type": "code",
   "execution_count": null,
   "metadata": {},
   "outputs": [],
   "source": [
    "\"\"\"\n",
    "Without any model tuning the RF does very well, 85%, without much data to work with. \n",
    "The KNN did not do very well, but better than a random guess.\n",
    "\n",
    "These results, to me, suggest there is signal in all of these librosa features to distinguish one artist from another. \n",
    "I believe that's enough to support the original hypothesis: \n",
    " - It's possible to build a recommender based on librosa extracted features rather than relying on Collaborative Based Filtering. \n",
    " - i.e. it's possible to suggest songs to a listener based on what they like without relying on what other people like. \n",
    " -  - there's signal in the music itself for affinity\n",
    "\"\"\""
   ]
  }
 ],
 "metadata": {
  "kernelspec": {
   "display_name": "Python 3",
   "language": "python",
   "name": "python3"
  },
  "language_info": {
   "codemirror_mode": {
    "name": "ipython",
    "version": 3
   },
   "file_extension": ".py",
   "mimetype": "text/x-python",
   "name": "python",
   "nbconvert_exporter": "python",
   "pygments_lexer": "ipython3",
   "version": "3.10.6"
  }
 },
 "nbformat": 4,
 "nbformat_minor": 2
}
