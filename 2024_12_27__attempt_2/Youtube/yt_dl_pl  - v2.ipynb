{
 "cells": [
  {
   "attachments": {},
   "cell_type": "markdown",
   "metadata": {},
   "source": [
    "# YT Playlists in Bulk Using UDFs"
   ]
  },
  {
   "cell_type": "markdown",
   "metadata": {},
   "source": [
    "# *NB* 2025-01-08: Dragging this out from 2023 original go-around - seeing if it still works"
   ]
  },
  {
   "attachments": {},
   "cell_type": "markdown",
   "metadata": {},
   "source": [
    "## This is intended for Summary Stats off of various audio metadata like MFCCs. v1 focuses only on MFCCs"
   ]
  },
  {
   "attachments": {},
   "cell_type": "markdown",
   "metadata": {},
   "source": [
    "### *NB: This is getting a lot of music videos instead of the raw music file, so entry/exit of the song could be strange*"
   ]
  },
  {
   "attachments": {},
   "cell_type": "markdown",
   "metadata": {},
   "source": [
    "## Env. Config."
   ]
  },
  {
   "attachments": {},
   "cell_type": "markdown",
   "metadata": {},
   "source": [
    "### Imports"
   ]
  },
  {
   "cell_type": "code",
   "execution_count": 1,
   "metadata": {},
   "outputs": [],
   "source": [
    "import os\n",
    "import subprocess\n",
    "from datetime import date\n",
    "\n",
    "import librosa\n",
    "import numpy as np\n",
    "import pandas as pd\n",
    "import json\n",
    "import glob\n",
    "\n",
    "import youtube_dl\n",
    "\n",
    "import gzip\n",
    "import pyarrow as pa\n",
    "import pyarrow.parquet as pq\n",
    "\n",
    "import warnings\n",
    "warnings.filterwarnings(\"ignore\") # Suppress all warnings\n",
    "\n",
    "import time\n",
    "\n",
    "# Get UDFs\n",
    "from yt_dl_fns_v2 import *"
   ]
  },
  {
   "cell_type": "code",
   "execution_count": 2,
   "metadata": {},
   "outputs": [],
   "source": [
    "# How to reinstall youtube_dl after a patch:\n",
    "# pip install --upgrade --force-reinstall \"git+https://github.com/ytdl-org/youtube-dl.git\"\n",
    "\n",
    "# Best documentation for yt_dl in python: https://github.com/ytdl-org/youtube-dl/blob/master/youtube_dl/__init__.py"
   ]
  },
  {
   "attachments": {},
   "cell_type": "markdown",
   "metadata": {},
   "source": [
    "### Set params"
   ]
  },
  {
   "cell_type": "code",
   "execution_count": 3,
   "metadata": {},
   "outputs": [],
   "source": [
    "# YT\n",
    "playlist_url = 'https://www.youtube.com/playlist?list=PL9V-Dt4XA4CN3jQK1LclKv0zJR6lhuHNe' # 'https://www.youtube.com/playlist?list=PLYV5tZUB5NRfLT4SJmU5gQ5-z5fLDwl5K'\n",
    "audio_file_type = 'mp3' # 'flac'\n",
    "\n",
    "# Directory\n",
    "yt_audio_out_fp = r\"C:\\Users\\Owner\\Music\\temp\\music\"\n",
    "yt_metadata_out_fp = r\"C:\\Users\\Owner\\Music\\temp\\metadata\"\n",
    "yt_audio_data_base_fp = r\"C:\\Users\\Owner\\Documents\\Data Projects\\GitHub\\music\\2024_12_27__attempt_2\\Youtube\\yt_music_files\" #  r\"C:\\Users\\Owner\\Documents\\Data Projects\\GitHub\\music\\Librosa\\Embeddings\\yt_music_files\"\n",
    "\n",
    "\n",
    "# Reference\n",
    "# master_ref_df_fp = r\"C:\\Users\\Owner\\Documents\\Data Projects\\GitHub\\music\\Librosa\\Embeddings\\Dataframes\\Master\\df_master.csv\""
   ]
  },
  {
   "attachments": {},
   "cell_type": "markdown",
   "metadata": {},
   "source": [
    "## Step 1: Grab Files"
   ]
  },
  {
   "cell_type": "code",
   "execution_count": 4,
   "metadata": {},
   "outputs": [
    {
     "name": "stdout",
     "output_type": "stream",
     "text": [
      "150 audio files have been placed in C:\\Users\\Owner\\Music\\temp\\music and 150 json files have been placed in C:\\Users\\Owner\\Music\\temp\\metadata\n"
     ]
    }
   ],
   "source": [
    "yt_dl_pl_bulk(\n",
    "    playlist_url = playlist_url, \n",
    "    yt_audio_out_fp = yt_audio_out_fp, \n",
    "    yt_metadata_out_fp = yt_metadata_out_fp, \n",
    "    audio_file_type = audio_file_type\n",
    ")"
   ]
  },
  {
   "attachments": {},
   "cell_type": "markdown",
   "metadata": {},
   "source": [
    "## Step 2: Create df"
   ]
  },
  {
   "cell_type": "code",
   "execution_count": 32,
   "metadata": {},
   "outputs": [],
   "source": [
    "df_yt_pl = pd.DataFrame(columns=['title', 'yt_playlist'])"
   ]
  },
  {
   "cell_type": "code",
   "execution_count": 33,
   "metadata": {},
   "outputs": [],
   "source": [
    "# Specify the directory path\n",
    "directory = r\"C:\\Users\\Owner\\Music\\temp\\music\""
   ]
  },
  {
   "attachments": {},
   "cell_type": "markdown",
   "metadata": {},
   "source": [
    "## Step 3: Audio Data Extraction"
   ]
  },
  {
   "cell_type": "code",
   "execution_count": 34,
   "metadata": {},
   "outputs": [],
   "source": [
    "# Extract music features with librosa and return a numpy array\n",
    "def extract_features(file_path):\n",
    "    # Load audio file\n",
    "    y, sr = librosa.load(file_path)\n",
    "    \n",
    "    # Extract features\n",
    "    mfcc = librosa.feature.mfcc(y=y, sr=sr)\n",
    "    spectral_centroid = librosa.feature.spectral_centroid(y=y, sr=sr)\n",
    "    chroma = librosa.feature.chroma_stft(y=y, sr=sr)\n",
    "    tempo, _ = librosa.beat.beat_track(y=y, sr=sr)\n",
    "    \n",
    "    # Aggregate features\n",
    "    features = np.hstack((np.mean(mfcc, axis=1), \n",
    "                          np.mean(spectral_centroid),\n",
    "                          np.mean(chroma, axis=1),\n",
    "                          tempo))\n",
    "    return features"
   ]
  },
  {
   "cell_type": "code",
   "execution_count": 35,
   "metadata": {},
   "outputs": [],
   "source": [
    "# Define feature names\n",
    "feature_names = ['mfcc_' + str(i) for i in range(20)] + ['spectral_centroid'] + ['chroma_' + str(i) for i in range(12)] + ['tempo']"
   ]
  },
  {
   "cell_type": "code",
   "execution_count": 36,
   "metadata": {},
   "outputs": [],
   "source": [
    "# Iterate through files in the directory\n",
    "for filename in os.listdir(directory):\n",
    "    file_path = os.path.join(directory, filename)\n",
    "    \n",
    "    # Extract features\n",
    "    features = extract_features(file_path)\n",
    "    \n",
    "    # Create a new row\n",
    "    new_row = {\n",
    "        'title': filename,\n",
    "        'yt_playlist': \"Country Music Playlist 2024\"\n",
    "    }\n",
    "    \n",
    "    # Add features to the row\n",
    "    for i, feature in enumerate(features):\n",
    "        new_row[feature_names[i]] = feature\n",
    "    \n",
    "    # Append the new row to the DataFrame\n",
    "    df_yt_pl = df_yt_pl.append(new_row, ignore_index=True)"
   ]
  },
  {
   "attachments": {},
   "cell_type": "markdown",
   "metadata": {},
   "source": [
    "## Step 4: Save df"
   ]
  },
  {
   "cell_type": "code",
   "execution_count": 41,
   "metadata": {},
   "outputs": [],
   "source": [
    "# Save as pickle to preserve all data typess\n",
    "df_yt_pl.to_pickle(\"extracted data/2025_01_08_Country_Music_Playlist_2024.pkl\")"
   ]
  },
  {
   "attachments": {},
   "cell_type": "markdown",
   "metadata": {},
   "source": [
    "## Step 5: Remove Files"
   ]
  },
  {
   "cell_type": "code",
   "execution_count": 42,
   "metadata": {},
   "outputs": [
    {
     "name": "stdout",
     "output_type": "stream",
     "text": [
      "C:\\Users\\Owner\\Music\\temp\\music and C:\\Users\\Owner\\Music\\temp\\metadata are now empty\n"
     ]
    }
   ],
   "source": [
    "yt_temp_file_cleanup(yt_audio_out_fp, yt_metadata_out_fp)"
   ]
  },
  {
   "cell_type": "code",
   "execution_count": null,
   "metadata": {},
   "outputs": [],
   "source": []
  }
 ],
 "metadata": {
  "kernelspec": {
   "display_name": "Python 3",
   "language": "python",
   "name": "python3"
  },
  "language_info": {
   "codemirror_mode": {
    "name": "ipython",
    "version": 3
   },
   "file_extension": ".py",
   "mimetype": "text/x-python",
   "name": "python",
   "nbconvert_exporter": "python",
   "pygments_lexer": "ipython3",
   "version": "3.10.6"
  },
  "orig_nbformat": 4
 },
 "nbformat": 4,
 "nbformat_minor": 2
}
